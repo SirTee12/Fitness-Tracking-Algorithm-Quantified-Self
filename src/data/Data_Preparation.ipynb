{
 "cells": [
  {
   "cell_type": "markdown",
   "metadata": {},
   "source": [
    "Extract necessary Libraries"
   ]
  },
  {
   "cell_type": "code",
   "execution_count": 1,
   "metadata": {},
   "outputs": [],
   "source": [
    "import pandas as pd\n",
    "from glob import glob\n"
   ]
  },
  {
   "attachments": {},
   "cell_type": "markdown",
   "metadata": {},
   "source": [
    "Extract features from file name as additional columns to the existing dataframe"
   ]
  },
  {
   "cell_type": "code",
   "execution_count": 9,
   "metadata": {},
   "outputs": [],
   "source": [
    "# Read single CSV file\n",
    "# --------------------------------------------------------------\n",
    "single_file_acc = pd.read_csv(\n",
    "    \"../../data/raw/MetaMotion/A-bench-heavy2-rpe8_MetaWear_2019-01-11T16.10.08.270_C42732BE255C_Accelerometer_12.500Hz_1.4.4.csv\")\n",
    "single_file_gyr = pd.read_csv(\n",
    "    \"../../data/raw/MetaMotion/A-bench-heavy2-rpe8_MetaWear_2019-01-11T16.10.08.270_C42732BE255C_Gyroscope_25.000Hz_1.4.4.csv\")\n",
    "\n",
    "# --------------------------------------------------------------\n",
    "# List all data in data/raw/MetaMotion\n",
    "# --------------------------------------------------------------\n",
    "files = glob(\"../../data/raw/MetaMotion/*.csv\")\n",
    "len(files)\n",
    "# --------------------------------------------------------------\n",
    "# Extract features from filename\n",
    "# --------------------------------------------------------------\n",
    "data_path = \"../../data/raw/MetaMotion\\\\\"\n",
    "f = files[0]\n",
    "\n",
    "participant = f.split('-')[0].replace(data_path, '')\n",
    "label = f.split('-')[1]\n",
    "category = f.split('-')[2].rstrip('123').rstrip('_MetaWear_2019')\n"
   ]
  },
  {
   "cell_type": "code",
   "execution_count": 6,
   "metadata": {},
   "outputs": [
    {
     "data": {
      "text/html": [
       "<div>\n",
       "<style scoped>\n",
       "    .dataframe tbody tr th:only-of-type {\n",
       "        vertical-align: middle;\n",
       "    }\n",
       "\n",
       "    .dataframe tbody tr th {\n",
       "        vertical-align: top;\n",
       "    }\n",
       "\n",
       "    .dataframe thead th {\n",
       "        text-align: right;\n",
       "    }\n",
       "</style>\n",
       "<table border=\"1\" class=\"dataframe\">\n",
       "  <thead>\n",
       "    <tr style=\"text-align: right;\">\n",
       "      <th></th>\n",
       "      <th>epoch (ms)</th>\n",
       "      <th>time (01:00)</th>\n",
       "      <th>elapsed (s)</th>\n",
       "      <th>x-axis (g)</th>\n",
       "      <th>y-axis (g)</th>\n",
       "      <th>z-axis (g)</th>\n",
       "      <th>participant</th>\n",
       "      <th>label</th>\n",
       "      <th>category</th>\n",
       "    </tr>\n",
       "  </thead>\n",
       "  <tbody>\n",
       "    <tr>\n",
       "      <th>0</th>\n",
       "      <td>1547219408431</td>\n",
       "      <td>2019-01-11T16:10:08.431</td>\n",
       "      <td>0.00</td>\n",
       "      <td>0.010</td>\n",
       "      <td>0.964</td>\n",
       "      <td>-0.087</td>\n",
       "      <td>A</td>\n",
       "      <td>bench</td>\n",
       "      <td>heavy</td>\n",
       "    </tr>\n",
       "    <tr>\n",
       "      <th>1</th>\n",
       "      <td>1547219408511</td>\n",
       "      <td>2019-01-11T16:10:08.511</td>\n",
       "      <td>0.08</td>\n",
       "      <td>0.000</td>\n",
       "      <td>0.961</td>\n",
       "      <td>-0.069</td>\n",
       "      <td>A</td>\n",
       "      <td>bench</td>\n",
       "      <td>heavy</td>\n",
       "    </tr>\n",
       "    <tr>\n",
       "      <th>2</th>\n",
       "      <td>1547219408591</td>\n",
       "      <td>2019-01-11T16:10:08.591</td>\n",
       "      <td>0.16</td>\n",
       "      <td>0.001</td>\n",
       "      <td>0.974</td>\n",
       "      <td>-0.087</td>\n",
       "      <td>A</td>\n",
       "      <td>bench</td>\n",
       "      <td>heavy</td>\n",
       "    </tr>\n",
       "    <tr>\n",
       "      <th>3</th>\n",
       "      <td>1547219408671</td>\n",
       "      <td>2019-01-11T16:10:08.671</td>\n",
       "      <td>0.24</td>\n",
       "      <td>-0.012</td>\n",
       "      <td>0.971</td>\n",
       "      <td>-0.084</td>\n",
       "      <td>A</td>\n",
       "      <td>bench</td>\n",
       "      <td>heavy</td>\n",
       "    </tr>\n",
       "    <tr>\n",
       "      <th>4</th>\n",
       "      <td>1547219408751</td>\n",
       "      <td>2019-01-11T16:10:08.751</td>\n",
       "      <td>0.32</td>\n",
       "      <td>-0.013</td>\n",
       "      <td>0.954</td>\n",
       "      <td>-0.094</td>\n",
       "      <td>A</td>\n",
       "      <td>bench</td>\n",
       "      <td>heavy</td>\n",
       "    </tr>\n",
       "  </tbody>\n",
       "</table>\n",
       "</div>"
      ],
      "text/plain": [
       "      epoch (ms)             time (01:00)  elapsed (s)  x-axis (g)  \\\n",
       "0  1547219408431  2019-01-11T16:10:08.431         0.00       0.010   \n",
       "1  1547219408511  2019-01-11T16:10:08.511         0.08       0.000   \n",
       "2  1547219408591  2019-01-11T16:10:08.591         0.16       0.001   \n",
       "3  1547219408671  2019-01-11T16:10:08.671         0.24      -0.012   \n",
       "4  1547219408751  2019-01-11T16:10:08.751         0.32      -0.013   \n",
       "\n",
       "   y-axis (g)  z-axis (g) participant  label category  \n",
       "0       0.964      -0.087           A  bench    heavy  \n",
       "1       0.961      -0.069           A  bench    heavy  \n",
       "2       0.974      -0.087           A  bench    heavy  \n",
       "3       0.971      -0.084           A  bench    heavy  \n",
       "4       0.954      -0.094           A  bench    heavy  "
      ]
     },
     "execution_count": 6,
     "metadata": {},
     "output_type": "execute_result"
    }
   ],
   "source": [
    "# read the csv file of f\n",
    "df = pd.read_csv(f)\n",
    "\n",
    "# add the newly extracted features as columns\n",
    "df['participant'] = participant\n",
    "df['label'] = label\n",
    "df['category'] = category\n",
    "\n",
    "# print the first few rows\n",
    "df.head()\n"
   ]
  },
  {
   "attachments": {},
   "cell_type": "markdown",
   "metadata": {},
   "source": [
    "We will be using what we have learnt above to create a function to extract these feature from all the files "
   ]
  },
  {
   "cell_type": "code",
   "execution_count": 8,
   "metadata": {},
   "outputs": [],
   "source": [
    "# create empty dataframes\n",
    "acc_df = pd.DataFrame()\n",
    "gyr_df = pd.DataFrame()\n",
    "\n",
    "# set the counter for the number of set\n",
    "acc_set = 1\n",
    "gyr_set = 1\n",
    "# apply the for loop\n",
    "for f in files:\n",
    "    participant = f.split('-')[0].replace(data_path, '')\n",
    "    label = f.split('-')[1]\n",
    "    category = f.split('-')[2].rstrip('123')\n",
    "\n",
    "    # print(label)\n"
   ]
  },
  {
   "cell_type": "code",
   "execution_count": null,
   "metadata": {},
   "outputs": [],
   "source": []
  }
 ],
 "metadata": {
  "kernelspec": {
   "display_name": "base",
   "language": "python",
   "name": "python3"
  },
  "language_info": {
   "codemirror_mode": {
    "name": "ipython",
    "version": 3
   },
   "file_extension": ".py",
   "mimetype": "text/x-python",
   "name": "python",
   "nbconvert_exporter": "python",
   "pygments_lexer": "ipython3",
   "version": "3.10.9"
  },
  "orig_nbformat": 4
 },
 "nbformat": 4,
 "nbformat_minor": 2
}
